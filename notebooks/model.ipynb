{
 "cells": [
  {
   "cell_type": "code",
   "execution_count": 4,
   "metadata": {},
   "outputs": [],
   "source": [
    "import pandas as pd\n",
    "import torch\n",
    "import torch.nn as nn"
   ]
  },
  {
   "cell_type": "code",
   "execution_count": 23,
   "metadata": {},
   "outputs": [],
   "source": [
    "ratings = pd.read_csv('../data/ratings.dat', sep='::', encoding='latin-1', engine ='python', names=['UserID','MovieID','Rating','Timestamp'])\n",
    "users = pd.read_csv('../data/users.dat', sep='::', encoding='latin-1', engine ='python', names=['UserID','Gender','Age','Occupation','Zip-code'])\n",
    "movies = pd.read_csv('../data/movies.dat', sep='::', encoding='latin-1', engine ='python', names=['MovieID','Title','Genres'])"
   ]
  },
  {
   "cell_type": "code",
   "execution_count": 39,
   "metadata": {},
   "outputs": [],
   "source": [
    "NUM_USERS = len(users)\n",
    "EMBD_DIM = 128\n",
    "\n",
    "class llm_rec(nn.Module):\n",
    "    def __init__(self):\n",
    "        super().__init__()\n",
    "        self.user_module = nn.Embedding(NUM_USERS+1, EMBD_DIM)"
   ]
  }
 ],
 "metadata": {
  "kernelspec": {
   "display_name": "llm-rec",
   "language": "python",
   "name": "python3"
  },
  "language_info": {
   "codemirror_mode": {
    "name": "ipython",
    "version": 3
   },
   "file_extension": ".py",
   "mimetype": "text/x-python",
   "name": "python",
   "nbconvert_exporter": "python",
   "pygments_lexer": "ipython3",
   "version": "3.11.4"
  },
  "orig_nbformat": 4
 },
 "nbformat": 4,
 "nbformat_minor": 2
}
